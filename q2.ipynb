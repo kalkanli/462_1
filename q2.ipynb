{
 "cells": [
  {
   "cell_type": "code",
   "execution_count": 2,
   "metadata": {},
   "outputs": [],
   "source": [
    "from PIL import Image\n",
    "import numpy as np\n"
   ]
  },
  {
   "cell_type": "code",
   "execution_count": 3,
   "metadata": {},
   "outputs": [],
   "source": [
    "#q2.a\n",
    "X = []\n",
    "for i in range(10000):\n",
    "\tim = Image.open('../input/3dshapes_train/{}.jpg'.format(i)).convert('L')\n",
    "\tim2arr = np.array(im)\n",
    "\timageArray = []\n",
    "\tfor arr in im2arr: # flatten\n",
    "\t\timageArray.extend(arr)\n",
    "\tX.append(imageArray)\n"
   ]
  },
  {
   "cell_type": "code",
   "execution_count": 5,
   "metadata": {},
   "outputs": [
    {
     "name": "stdout",
     "output_type": "stream",
     "text": [
      "found transpose of x.\n",
      "t is  10000\n"
     ]
    }
   ],
   "source": [
    "#q2.b\n",
    "x_transpose = np.transpose(X)\n",
    "print('found transpose of x.')\n",
    "t = np.load('../input/orientations_train.npy')\n",
    "print(\"t is \",len(t))\n",
    "inverse_x_transpose_x = np.linalg.inv(np.dot(x_transpose, X))\n",
    "print('found transpose of x multiplied by x')\n",
    "\n",
    "weights_star=np.dot(np.dot(inverse_x_transpose_x,x_transpose),t)\n",
    "print(weights_star)"
   ]
  }
 ],
 "metadata": {
  "interpreter": {
   "hash": "7812ea015bdcee6f23a998adcdd2ef97c151c0c241b7b7070987d9313e41299d"
  },
  "kernelspec": {
   "display_name": "Python 3.9.3 64-bit ('3.9')",
   "language": "python",
   "name": "python3"
  },
  "language_info": {
   "codemirror_mode": {
    "name": "ipython",
    "version": 3
   },
   "file_extension": ".py",
   "mimetype": "text/x-python",
   "name": "python",
   "nbconvert_exporter": "python",
   "pygments_lexer": "ipython3",
   "version": "3.9.3"
  },
  "orig_nbformat": 4
 },
 "nbformat": 4,
 "nbformat_minor": 2
}
