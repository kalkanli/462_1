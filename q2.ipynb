{
 "cells": [
  {
   "cell_type": "code",
   "execution_count": 2,
   "metadata": {},
   "outputs": [],
   "source": [
    "from PIL import Image\n",
    "import numpy as np\n"
   ]
  },
  {
   "cell_type": "code",
   "execution_count": 3,
   "metadata": {},
   "outputs": [],
   "source": [
    "#q2.a\n",
    "x = np.zeros((10000,4096))\n",
    "for i in range(10000):\n",
    "    image = Image.open(\"../input/3dshapes_train/{}.jpg\".format(i)).convert('L')\n",
    "    x[i] = np.array(image).flatten()\n"
   ]
  },
  {
   "cell_type": "code",
   "execution_count": 4,
   "metadata": {},
   "outputs": [
    {
     "name": "stdout",
     "output_type": "stream",
     "text": [
      "[ 2.14409938e-03 -2.06642192e-02  9.50187884e-03 ... -5.57414479e-05\n",
      " -5.05684476e-05 -2.93947729e-05]\n"
     ]
    }
   ],
   "source": [
    "#q2.b\n",
    "t = np.load('../input/orientations_train.npy')\n",
    "weights_star=np.matmul(np.matmul(np.linalg.pinv(np.matmul(x.T, x)),x.T), t) \n",
    "print(weights_star)"
   ]
  },
  {
   "cell_type": "code",
   "execution_count": 5,
   "metadata": {},
   "outputs": [
    {
     "name": "stdout",
     "output_type": "stream",
     "text": [
      "0.05286807523800169\n"
     ]
    }
   ],
   "source": [
    "x_test = np.zeros((1000,4096))\n",
    "for i in range(1000):\n",
    "    image = Image.open(\"../input/3dshapes_test/{}.jpg\".format(i)).convert('L')\n",
    "    x_test[i] = np.array(image).flatten()\n",
    "y_predict=np.matmul(x_test,weights_star)\n",
    "y_t = np.load('../input/orientations_test.npy')\n",
    "total=0\n",
    "for i in range(1000):\n",
    "    total+=(y_t[i]-y_predict[i])**2\n",
    "print(total/1000)\n"
   ]
  },
  {
   "cell_type": "code",
   "execution_count": 6,
   "metadata": {},
   "outputs": [],
   "source": [
    "#q4\n",
    "from skimage.filters import prewitt_h,prewitt_v\n",
    "from skimage.io import imread, imshow\n",
    "\n",
    "x = np.zeros((10000,4096))\n",
    "for i in range(10000):\n",
    "    image = imread(\"../input/3dshapes_train/{}.jpg\".format(i),as_gray=True)\n",
    "    x[i] = np.array(image).flatten()\n",
    "    \n",
    "t = np.load('../input/orientations_train.npy')\n",
    "weights_star=np.matmul(np.matmul(np.linalg.pinv(np.matmul(x.T, x)),x.T), t) \n",
    "print(weights_star)\n",
    "\n",
    "x_test = np.zeros((1000,4096))\n",
    "for i in range(1000):\n",
    "    image =  imread(\"../input/3dshapes_test//{}.jpg\".format(i),as_gray=True)\n",
    "    x_test[i] = np.array(image).flatten()\n",
    "y_predict=np.matmul(x_test,weights_star)\n",
    "y_t = np.load('../input/orientations_test.npy')\n",
    "total=0\n",
    "for i in range(1000):\n",
    "    total+=(y_t[i]-y_predict[i])**2\n",
    "print(total/1000)"
   ]
  }
 ],
 "metadata": {
  "interpreter": {
   "hash": "7812ea015bdcee6f23a998adcdd2ef97c151c0c241b7b7070987d9313e41299d"
  },
  "kernelspec": {
   "display_name": "Python 3.9.3 64-bit ('3.9')",
   "language": "python",
   "name": "python3"
  },
  "language_info": {
   "codemirror_mode": {
    "name": "ipython",
    "version": 3
   },
   "file_extension": ".py",
   "mimetype": "text/x-python",
   "name": "python",
   "nbconvert_exporter": "python",
   "pygments_lexer": "ipython3",
   "version": "3.9.3"
  },
  "orig_nbformat": 4
 },
 "nbformat": 4,
 "nbformat_minor": 2
}
