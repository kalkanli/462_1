{
 "cells": [
  {
   "cell_type": "code",
   "execution_count": 1,
   "metadata": {},
   "outputs": [],
   "source": [
    "from PIL import Image\n",
    "import numpy as np\n"
   ]
  },
  {
   "cell_type": "code",
   "execution_count": 2,
   "metadata": {},
   "outputs": [
    {
     "name": "stdout",
     "output_type": "stream",
     "text": [
      "[207 207 207 ...  86  86  86]\n"
     ]
    }
   ],
   "source": [
    "#q2.a\n",
    "x = np.empty((10000, 4096), int)\n",
    "for i in range(10000):\n",
    "\tim = Image.open('../input/3dshapes_train/{}.jpg'.format(i)).convert('L')\n",
    "\tim2arr = np.array(im).flatten()\n",
    "\tx[i]=im2arr\n",
    "print(x[9999])"
   ]
  },
  {
   "cell_type": "code",
   "execution_count": 3,
   "metadata": {},
   "outputs": [
    {
     "name": "stdout",
     "output_type": "stream",
     "text": [
      "t is  (10000,)\n",
      "len X is  (10000, 4096)\n",
      "len X_t is  (4096, 10000)\n"
     ]
    }
   ],
   "source": [
    "#q2.b\n",
    "t = np.load('../input/orientations_train.npy')\n",
    "x_t = np.transpose(x)\n",
    "print(\"t is \", t.shape)\n",
    "print(\"len X is \",x.shape)\n",
    "print(\"len X_t is \",x_t.shape)\n",
    "\n",
    "mult = np.matmul(x_t, x)\n",
    "print('multiplied the vectors')\n",
    "\n",
    "x_t_x_inverse = np.linalg.inv(mult)\n",
    "print('found transpose of x multiplied by x')\n",
    "\n",
    "weights_star=np.matmul(x_t_x_inverse, x_t, t)\n",
    "print(weights_star)"
   ]
  }
 ],
 "metadata": {
  "interpreter": {
   "hash": "7812ea015bdcee6f23a998adcdd2ef97c151c0c241b7b7070987d9313e41299d"
  },
  "kernelspec": {
   "display_name": "Python 3.9.3 64-bit ('3.9')",
   "language": "python",
   "name": "python3"
  },
  "language_info": {
   "codemirror_mode": {
    "name": "ipython",
    "version": 3
   },
   "file_extension": ".py",
   "mimetype": "text/x-python",
   "name": "python",
   "nbconvert_exporter": "python",
   "pygments_lexer": "ipython3",
   "version": "3.9.3"
  },
  "orig_nbformat": 4
 },
 "nbformat": 4,
 "nbformat_minor": 2
}
