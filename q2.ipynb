{
 "cells": [
  {
   "cell_type": "code",
   "execution_count": 4,
   "metadata": {},
   "outputs": [],
   "source": [
    "from PIL import Image\n",
    "import numpy as np\n"
   ]
  },
  {
   "cell_type": "code",
   "execution_count": 5,
   "metadata": {},
   "outputs": [
    {
     "name": "stdout",
     "output_type": "stream",
     "text": [
      "[207. 207. 207. ...  85.  86.  86.]\n"
     ]
    }
   ],
   "source": [
    "#q2.a\n",
    "x = np.zeros((10000,4096))\n",
    "for i in range(10000):\n",
    "    image = Image.open(\"../input/3dshapes_train/{}.jpg\".format(i)).convert('L')\n",
    "    x[i] = np.array(image).flatten()\n"
   ]
  },
  {
   "cell_type": "code",
   "execution_count": 6,
   "metadata": {},
   "outputs": [
    {
     "name": "stdout",
     "output_type": "stream",
     "text": [
      "[ 1.00039230e-02  1.25696314e-01  1.01217207e-02 ...  7.41265640e-04\n",
      "  7.22007809e-05 -5.27847018e-04]\n"
     ]
    }
   ],
   "source": [
    "#q2.b\n",
    "t = np.load('../input/orientations_train.npy')\n",
    "weights_star=np.matmul(np.matmul(np.linalg.pinv(np.matmul(x.T, x)),x.T), t) \n",
    "print(weights_star)"
   ]
  }
 ],
 "metadata": {
  "interpreter": {
   "hash": "7812ea015bdcee6f23a998adcdd2ef97c151c0c241b7b7070987d9313e41299d"
  },
  "kernelspec": {
   "display_name": "Python 3.9.3 64-bit ('3.9')",
   "language": "python",
   "name": "python3"
  },
  "language_info": {
   "codemirror_mode": {
    "name": "ipython",
    "version": 3
   },
   "file_extension": ".py",
   "mimetype": "text/x-python",
   "name": "python",
   "nbconvert_exporter": "python",
   "pygments_lexer": "ipython3",
   "version": "3.9.5"
  },
  "orig_nbformat": 4
 },
 "nbformat": 4,
 "nbformat_minor": 2
}
